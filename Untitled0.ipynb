{
  "nbformat": 4,
  "nbformat_minor": 0,
  "metadata": {
    "colab": {
      "provenance": [],
      "authorship_tag": "ABX9TyPEZbvGYaf+rPS/tW4H00ef",
      "include_colab_link": true
    },
    "kernelspec": {
      "name": "python3",
      "display_name": "Python 3"
    },
    "language_info": {
      "name": "python"
    }
  },
  "cells": [
    {
      "cell_type": "markdown",
      "metadata": {
        "id": "view-in-github",
        "colab_type": "text"
      },
      "source": [
        "<a href=\"https://colab.research.google.com/github/Willian-wrs/TurmaELETRICA/blob/main/Untitled0.ipynb\" target=\"_parent\"><img src=\"https://colab.research.google.com/assets/colab-badge.svg\" alt=\"Open In Colab\"/></a>"
      ]
    },
    {
      "cell_type": "code",
      "execution_count": 5,
      "metadata": {
        "colab": {
          "base_uri": "https://localhost:8080/"
        },
        "id": "bLeJ5NKFZXdV",
        "outputId": "a0caaa2b-92d3-4e4a-b4c2-cbdd3fe787a8"
      },
      "outputs": [
        {
          "output_type": "stream",
          "name": "stdout",
          "text": [
            "Digite um numero interiro:20\n",
            "o numero 20 é par\n"
          ]
        }
      ],
      "source": [
        "#Solicita ao usuario que insira um numero intero\n",
        "numero = int(input(\"Digite um numero interiro:\"))\n",
        "#Verificar se o numero é par ou impar\n",
        "if numero % 2 ==0:\n",
        "  print(f\"o numero {numero} é par\")\n",
        "else:\n",
        "  print(f\"o numero {numero}é impar\")\n",
        "\n"
      ]
    },
    {
      "cell_type": "code",
      "source": [
        "import math\n",
        "#Solicita ao usuario que insira um numero\n",
        "numero = float(input(\"Digite um numero:\"))\n",
        "#Verifica se o numero é maior ou igual a zero\n",
        "if numero >= 0:\n",
        "  raiz_quadrada = math.sqrt(numero)\n",
        "  print(f\"A raiz quadrada de {numero} é {raiz_quadrada:.2f}\")\n",
        "else:\n",
        "  print(\"Não existe raiz real para este numero!\")\n"
      ],
      "metadata": {
        "colab": {
          "base_uri": "https://localhost:8080/"
        },
        "id": "q0A1_8gKfGcM",
        "outputId": "b8ccc994-f657-4793-82ac-ba59bcd39c30"
      },
      "execution_count": 13,
      "outputs": [
        {
          "output_type": "stream",
          "name": "stdout",
          "text": [
            "Digite um numero:25\n",
            "A raiz quadrada de 25.0 é 5.00\n"
          ]
        }
      ]
    },
    {
      "cell_type": "code",
      "source": [
        "#Solicita ao usuario que insira o comprimento e largura da camisera\n",
        "comprimento = float(input(\"Digite o comprimento da camiseta em cm:\"))\n",
        "largura = float(input(\"Digite a largura da camiseta em cm;\"))\n",
        "#Determina o tamanho da camiseta com base no comprimento e largura\n",
        "if comprimento <= 60 and largura <= 45:\n",
        "  tamanho = \"PP\"\n",
        "elif comprimento <= 65 and largura <= 48:\n",
        "  tamanho = \"P\"\n",
        "elif comprimento <=70 and largura <= 51:\n",
        "  tamanho = \"M\"\n",
        "elif comprimento <= 75 and largura <= 54:\n",
        "  tamanho = \"G\"\n",
        "elif comprimento <= 80 and largura <= 57:\n",
        "  tamanho = \"GG\"\n",
        "else:\n",
        "  tamanho = \"XXG\"\n",
        "#exibe o tamanho da camiseta\n",
        "print(f\"O tamanho da camisa é {tamanho}.\")\n"
      ],
      "metadata": {
        "colab": {
          "base_uri": "https://localhost:8080/"
        },
        "id": "MdcVNdk2h0zs",
        "outputId": "d1db1b79-9a09-4073-fc17-78d31c60aa0b"
      },
      "execution_count": 16,
      "outputs": [
        {
          "output_type": "stream",
          "name": "stdout",
          "text": [
            "Digite o comprimento da camiseta em cm:79\n",
            "Digite a largura da camiseta em cm;50\n",
            "O tamanho da camisa é GG.\n"
          ]
        }
      ]
    },
    {
      "cell_type": "code",
      "source": [
        "import math\n",
        "#cabeçalho da tabela\n",
        "print(f\"{'angulo (graus)':<15} {'seno':<10}\")\n",
        "#Gera os valores dos angulos de 0° a 360° com intervalo de 5°\n",
        "for angulo in range(0, 361, 5):\n",
        "  #Converte o angulo de graus para radianos\n",
        "  radianos = math.radians(angulo)\n",
        "  #calcula o seno do angulo\n",
        "  seno = math.math.sin(radianos)\n",
        "  #exibe o angulo e seu seno correspondente\n",
        "  print(f\"{angulo:<15} {seno:<10.4f}\")\n"
      ],
      "metadata": {
        "colab": {
          "base_uri": "https://localhost:8080/",
          "height": 228
        },
        "id": "AbV8ZSrwkVwW",
        "outputId": "29ba2dfb-8522-4c8d-a1ba-80d9ff7c148a"
      },
      "execution_count": 28,
      "outputs": [
        {
          "output_type": "stream",
          "name": "stdout",
          "text": [
            "angulo (graus)  seno      \n"
          ]
        },
        {
          "output_type": "error",
          "ename": "AttributeError",
          "evalue": "module 'math' has no attribute 'math'",
          "traceback": [
            "\u001b[0;31m---------------------------------------------------------------------------\u001b[0m",
            "\u001b[0;31mAttributeError\u001b[0m                            Traceback (most recent call last)",
            "\u001b[0;32m<ipython-input-28-0c679467dafa>\u001b[0m in \u001b[0;36m<cell line: 5>\u001b[0;34m()\u001b[0m\n\u001b[1;32m      7\u001b[0m   \u001b[0mradianos\u001b[0m \u001b[0;34m=\u001b[0m \u001b[0mmath\u001b[0m\u001b[0;34m.\u001b[0m\u001b[0mradians\u001b[0m\u001b[0;34m(\u001b[0m\u001b[0mangulo\u001b[0m\u001b[0;34m)\u001b[0m\u001b[0;34m\u001b[0m\u001b[0;34m\u001b[0m\u001b[0m\n\u001b[1;32m      8\u001b[0m   \u001b[0;31m#calcula o seno do angulo\u001b[0m\u001b[0;34m\u001b[0m\u001b[0;34m\u001b[0m\u001b[0m\n\u001b[0;32m----> 9\u001b[0;31m   \u001b[0mseno\u001b[0m \u001b[0;34m=\u001b[0m \u001b[0mmath\u001b[0m\u001b[0;34m.\u001b[0m\u001b[0mmath\u001b[0m\u001b[0;34m.\u001b[0m\u001b[0msin\u001b[0m\u001b[0;34m(\u001b[0m\u001b[0mradianos\u001b[0m\u001b[0;34m)\u001b[0m\u001b[0;34m\u001b[0m\u001b[0;34m\u001b[0m\u001b[0m\n\u001b[0m\u001b[1;32m     10\u001b[0m   \u001b[0;31m#exibe o angulo e seu seno correspondente\u001b[0m\u001b[0;34m\u001b[0m\u001b[0;34m\u001b[0m\u001b[0m\n\u001b[1;32m     11\u001b[0m   \u001b[0mprint\u001b[0m\u001b[0;34m(\u001b[0m\u001b[0;34mf\"{angulo:<15} {seno:<10.4f}\"\u001b[0m\u001b[0;34m)\u001b[0m\u001b[0;34m\u001b[0m\u001b[0;34m\u001b[0m\u001b[0m\n",
            "\u001b[0;31mAttributeError\u001b[0m: module 'math' has no attribute 'math'"
          ]
        }
      ]
    },
    {
      "cell_type": "code",
      "source": [],
      "metadata": {
        "id": "jT5cBkcwnfx7"
      },
      "execution_count": null,
      "outputs": []
    }
  ]
}