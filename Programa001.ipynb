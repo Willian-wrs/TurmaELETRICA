{
  "nbformat": 4,
  "nbformat_minor": 0,
  "metadata": {
    "colab": {
      "provenance": [],
      "authorship_tag": "ABX9TyNzT+W/mU4fsqY4JoPj/4jT",
      "include_colab_link": true
    },
    "kernelspec": {
      "name": "python3",
      "display_name": "Python 3"
    },
    "language_info": {
      "name": "python"
    }
  },
  "cells": [
    {
      "cell_type": "markdown",
      "metadata": {
        "id": "view-in-github",
        "colab_type": "text"
      },
      "source": [
        "<a href=\"https://colab.research.google.com/github/igarashimassaki/TurmaELETRICA/blob/main/Programa001.ipynb\" target=\"_parent\"><img src=\"https://colab.research.google.com/assets/colab-badge.svg\" alt=\"Open In Colab\"/></a>"
      ]
    },
    {
      "cell_type": "markdown",
      "source": [
        "#Meu primeiro programa na aula do prof. Massaki"
      ],
      "metadata": {
        "id": "thFbli-aeUgV"
      }
    },
    {
      "cell_type": "code",
      "execution_count": 4,
      "metadata": {
        "colab": {
          "base_uri": "https://localhost:8080/"
        },
        "id": "xkxy3KAEeBN6",
        "outputId": "5b675f0e-b28b-4a0c-f561-3a4017a1b6e6"
      },
      "outputs": [
        {
          "output_type": "stream",
          "name": "stdout",
          "text": [
            "<class 'str'>\n",
            "<class 'str'>\n",
            "<class 'str'>\n",
            "23.0\n"
          ]
        }
      ],
      "source": [
        "#Comentário Python\n",
        "a = \"2\"\n",
        "print(type(a))\n",
        "b = '3.0'\n",
        "print(type(b))\n",
        "soma = a+b\n",
        "print(type(soma))\n",
        "print(soma)"
      ]
    },
    {
      "cell_type": "markdown",
      "source": [
        "#Importância dos tipos de dados"
      ],
      "metadata": {
        "id": "lFMyPbYbgfuh"
      }
    },
    {
      "cell_type": "code",
      "source": [
        "num = int(input(\"Digite um número inteiro: \"))\n",
        "print(type(num))\n",
        "quoc = num//2\n",
        "resto = num%2\n",
        "print(\"Quociente = \", quoc)\n",
        "print(\"Resto = \", resto)"
      ],
      "metadata": {
        "colab": {
          "base_uri": "https://localhost:8080/"
        },
        "id": "IM9b9rQngeqx",
        "outputId": "d6ab968f-3342-4b79-a8fe-6e7e6ce9a623"
      },
      "execution_count": 8,
      "outputs": [
        {
          "output_type": "stream",
          "name": "stdout",
          "text": [
            "Digite um número inteiro: 9\n",
            "<class 'int'>\n",
            "Quociente =  4\n",
            "Resto =  1\n"
          ]
        }
      ]
    }
  ]
}